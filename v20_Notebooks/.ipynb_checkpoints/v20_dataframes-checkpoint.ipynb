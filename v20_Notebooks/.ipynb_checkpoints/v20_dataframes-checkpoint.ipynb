{
 "cells": [
  {
   "cell_type": "code",
   "execution_count": 11,
   "id": "d4a94228-7916-4103-92b7-638ea0767d7c",
   "metadata": {},
   "outputs": [
    {
     "name": "stdout",
     "output_type": "stream",
     "text": [
      "Failed to fetch data: 400 {'errorMessage': \"Maximum value for 'count' exceeded\"}\n"
     ]
    }
   ],
   "source": [
    "import requests\n",
    "import pandas as pd\n",
    "\n",
    "# API information\n",
    "account_id = \"101-001-7052929-001\"\n",
    "access_token = \"9caa78fb7383938eb3c9753dcea8d62d-30fb17b01b1c8951f65b85bec444a2cc\"\n",
    "api_url = f\"https://api-fxpractice.oanda.com/v3/accounts/{account_id}/instruments/EUR_USD/candles\"\n",
    "\n",
    "headers = {\n",
    "    \"Authorization\": f\"Bearer {access_token}\",\n",
    "    \"Content-Type\": \"application/json\"\n",
    "}\n",
    "\n",
    "# Define request parameters\n",
    "params = {\n",
    "    \"from\": \"2024-01-01T00:00:00Z\",\n",
    "    \"to\": \"2024-01-31T00:00:00Z\",\n",
    "    \"granularity\": \"M5\",\n",
    "    \"price\": \"M\"\n",
    "}\n",
    "\n",
    "pd.set_option('display.max_columns', None)  # Ensure all columns are shown\n",
    "pd.set_option('display.width', 1000)  # Adjust the width to fit your console\n",
    "\n",
    "response = requests.get(api_url, headers=headers, params=params)\n",
    "if response.status_code == 200:\n",
    "    data = response.json()\n",
    "    candles = data.get('candles', [])\n",
    "    df = pd.DataFrame({\n",
    "        'time': [pd.to_datetime(c['time']) for c in candles],\n",
    "        'open': [float(c['mid']['o']) for c in candles],\n",
    "        'high': [float(c['mid']['h']) for c in candles],\n",
    "        'low': [float(c['mid']['l']) for c in candles],\n",
    "        'close': [float(c['mid']['c']) for c in candles],\n",
    "        'volume': [c['volume'] for c in candles],\n",
    "        'complete': [c['complete'] for c in candles]\n",
    "    })\n",
    "    df.set_index('time', inplace=True)\n",
    "    print(df)\n",
    "else:\n",
    "    print(f\"Failed to fetch data: {response.status_code} {response.json()}\")\n"
   ]
  },
  {
   "cell_type": "code",
   "execution_count": null,
   "id": "a0bd99cf-e410-4f28-bab9-b0323692c220",
   "metadata": {},
   "outputs": [],
   "source": []
  }
 ],
 "metadata": {
  "kernelspec": {
   "display_name": "Python 3 (ipykernel)",
   "language": "python",
   "name": "python3"
  },
  "language_info": {
   "codemirror_mode": {
    "name": "ipython",
    "version": 3
   },
   "file_extension": ".py",
   "mimetype": "text/x-python",
   "name": "python",
   "nbconvert_exporter": "python",
   "pygments_lexer": "ipython3",
   "version": "3.12.3"
  }
 },
 "nbformat": 4,
 "nbformat_minor": 5
}
